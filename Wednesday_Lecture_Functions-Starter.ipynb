{
 "cells": [
  {
   "cell_type": "markdown",
   "metadata": {},
   "source": [
    "# Functions"
   ]
  },
  {
   "cell_type": "markdown",
   "metadata": {},
   "source": [
    "#### Warm up"
   ]
  },
  {
   "cell_type": "code",
   "execution_count": 13,
   "metadata": {},
   "outputs": [
    {
     "name": "stdout",
     "output_type": "stream",
     "text": [
      "['The Beatles', 'The Rolling Stones', 'The Eagles', 'The Temptations']\n"
     ]
    }
   ],
   "source": [
    "bands = ['  thE beATles   ', 'tHe RoLLing sTones..', '.,tHe eagles', 'the tEMptationS  ']\n",
    "\n",
    "new_bands = []\n",
    "for band in bands:\n",
    "    new_bands.append(band.strip('., ').title())\n",
    "    \n",
    "print(new_bands)"
   ]
  },
  {
   "cell_type": "code",
   "execution_count": null,
   "metadata": {},
   "outputs": [],
   "source": [
    "# Output: ['The Beatles', 'The Rolling Stones', etc]"
   ]
  },
  {
   "cell_type": "code",
   "execution_count": 23,
   "metadata": {},
   "outputs": [
    {
     "name": "stdout",
     "output_type": "stream",
     "text": [
      "['The Who', 'The Doors', 'The Band', 'The Kinks']\n"
     ]
    }
   ],
   "source": [
    "bands2 = [' The whO  ', '  .   , tHE dOORS  ', ' the bAnd   ', '...,  THE kINks    ']\n",
    "\n",
    "\n",
    "\n",
    "clean_bands = [band.strip('., ').title() for band in bands2]\n",
    "print(clean_bands)"
   ]
  },
  {
   "cell_type": "markdown",
   "metadata": {},
   "source": [
    "## Functions"
   ]
  },
  {
   "cell_type": "markdown",
   "metadata": {},
   "source": [
    "##### User-Defined vs. Built-In Function"
   ]
  },
  {
   "cell_type": "code",
   "execution_count": null,
   "metadata": {},
   "outputs": [],
   "source": [
    "# Built-in functions\n"
   ]
  },
  {
   "cell_type": "code",
   "execution_count": 41,
   "metadata": {},
   "outputs": [],
   "source": [
    "# User Defined Function\n",
    "# Syntax: def function_name():\n",
    "#             <CODE TO EXECUTE WHEN CALLED>\n",
    "\n",
    "# Creating a function\n",
    "\n",
    "def say_hello():\n",
    "    print(\"Hello World!\")\n",
    "    \n",
    "\n"
   ]
  },
  {
   "cell_type": "code",
   "execution_count": null,
   "metadata": {},
   "outputs": [],
   "source": []
  },
  {
   "cell_type": "code",
   "execution_count": 40,
   "metadata": {},
   "outputs": [
    {
     "name": "stdout",
     "output_type": "stream",
     "text": [
      "Hello World!\n"
     ]
    }
   ],
   "source": [
    "# Executing a function\n",
    "# Syntax: function_name()\n",
    "\n",
    "say_hello()"
   ]
  },
  {
   "cell_type": "code",
   "execution_count": null,
   "metadata": {},
   "outputs": [],
   "source": [
    "# DRY Principle - Don't Repeat Yourself"
   ]
  },
  {
   "cell_type": "markdown",
   "metadata": {},
   "source": [
    "##### Accepting Parameters"
   ]
  },
  {
   "cell_type": "code",
   "execution_count": 44,
   "metadata": {},
   "outputs": [
    {
     "name": "stdout",
     "output_type": "stream",
     "text": [
      "Hello Terry Kubalewski\n"
     ]
    }
   ],
   "source": [
    "# Syntax: def function_name(param1, param2):\n",
    "#             <CODE TO EXECUTE with variable param1 and param2>\n",
    "\n",
    "def say_hello_again(first, last):  # 'first' and 'last' are parameters(placeholders)\n",
    "    print(f\"Hello {first} {last}\")\n",
    "    \n",
    "# Execute\n",
    "# Syntax: function_name(data1, data2)\n",
    "say_hello_again('Terry', 'Kubalewski') # 'Terry' and 'Kubalewski' are arguments(real data)\n"
   ]
  },
  {
   "cell_type": "code",
   "execution_count": null,
   "metadata": {},
   "outputs": [],
   "source": []
  },
  {
   "cell_type": "markdown",
   "metadata": {},
   "source": [
    "##### Passing in variables as parameters"
   ]
  },
  {
   "cell_type": "code",
   "execution_count": 52,
   "metadata": {
    "scrolled": true
   },
   "outputs": [
    {
     "name": "stdout",
     "output_type": "stream",
     "text": [
      "Chicago, IL, 60606\n",
      "Boston, MA, 02215\n",
      "New York, NY, 10451\n"
     ]
    }
   ],
   "source": [
    "city1 = 'Boston'\n",
    "state1 = 'MA'\n",
    "zip_code1 = '02215'\n",
    "\n",
    "city2 = 'New York'\n",
    "state2 = 'NY'\n",
    "zip_code2 = '10451'\n",
    "\n",
    "def format_address(city, state, zip_code):\n",
    "    print(f\"{city}, {state}, {zip_code}\")\n",
    "          \n",
    "format_address(\"Chicago\", \"IL\", \"60606\")\n",
    "format_address(city1, state1, zip_code1)    \n",
    "format_address(city2, state2, zip_code2)\n",
    "      \n"
   ]
  },
  {
   "cell_type": "code",
   "execution_count": 57,
   "metadata": {},
   "outputs": [
    {
     "name": "stdout",
     "output_type": "stream",
     "text": [
      "What is your first name? Terry\n",
      "What is your last name? ryan\n",
      "What is your street address? 123 main st\n",
      "What city do you live in? spanish fort\n",
      "What state do you live in? al\n",
      "What is your zip code? 36527\n",
      "\n",
      "        Terry Ryan \n",
      "        123 Main St \n",
      "        Spanish Fort,AL, 36527\n"
     ]
    }
   ],
   "source": [
    "def set_up_mail(first_name, last_name, address, city, state, zip_code):\n",
    "    print(f\"\"\"\n",
    "{first_name.title()} {last_name.title()} \n",
    "{address.title()} \n",
    "{city.title()},{state.upper()}, {zip_code}\"\"\")\n",
    "\n",
    "first = input('What is your first name? ')\n",
    "last = input('What is your last name? ')\n",
    "address = input('What is your street address? ')\n",
    "city = input('What city do you live in? ')\n",
    "state = input('What state do you live in? ')\n",
    "zip_code= input('What is your zip code? ')\n",
    "\n",
    "set_up_mail(first, last, address, city, state, zip_code)"
   ]
  },
  {
   "cell_type": "markdown",
   "metadata": {},
   "source": [
    "##### Keyword Arguments"
   ]
  },
  {
   "cell_type": "code",
   "execution_count": 60,
   "metadata": {},
   "outputs": [
    {
     "name": "stdout",
     "output_type": "stream",
     "text": [
      "You have mad a payment of $100 to Account #2348905.\n",
      "Your new balance due is $900\n",
      "Thank you for the payment!\n"
     ]
    }
   ],
   "source": [
    "def make_a_payment(total_amount_due, amount_paid, account_number):\n",
    "    new_total = total_amount_due - amount_paid\n",
    "    print(f\"You have mad a payment of ${amount_paid} to Account #{account_number}.\")\n",
    "    print(f\"Your new balance due is ${new_total}\")\n",
    "    print(\"Thank you for the payment!\")\n",
    "    \n",
    "make_a_payment(1000, 100, '2348905')"
   ]
  },
  {
   "cell_type": "code",
   "execution_count": 62,
   "metadata": {},
   "outputs": [
    {
     "name": "stdout",
     "output_type": "stream",
     "text": [
      "You have mad a payment of $500 to Account #48574857.\n",
      "Your new balance due is $1500\n",
      "Thank you for the payment!\n"
     ]
    }
   ],
   "source": [
    "make_a_payment(account_number='48574857', total_amount_due=2000, amount_paid=500)"
   ]
  },
  {
   "cell_type": "code",
   "execution_count": 64,
   "metadata": {},
   "outputs": [
    {
     "name": "stdout",
     "output_type": "stream",
     "text": [
      "You have mad a payment of $2999 to Account #3873984.\n",
      "Your new balance due is $1\n",
      "Thank you for the payment!\n"
     ]
    }
   ],
   "source": [
    "make_a_payment(3000, account_number = '3873984', amount_paid=2999)"
   ]
  },
  {
   "cell_type": "markdown",
   "metadata": {},
   "source": [
    "##### Default Parameters"
   ]
  },
  {
   "cell_type": "code",
   "execution_count": 80,
   "metadata": {
    "scrolled": true
   },
   "outputs": [
    {
     "name": "stdout",
     "output_type": "stream",
     "text": [
      "Thank you, Claire! Here is your receipt:\n",
      "1 Hamburger\n",
      "\twith cheese\n",
      "\twith lettuce\n",
      "\twith tomato\n",
      "\t\tTotal: $4.50\n",
      "\n",
      "\n",
      "Thank you, Max! Here is your receipt:\n",
      "1 Hamburger\n",
      "\twith cheese\n",
      "\twith grilled onions\n",
      "\t\tTotal: $5.00\n"
     ]
    }
   ],
   "source": [
    "# default parameters need to be AFTER non-default at all times\n",
    "\n",
    "def make_a_burger(customer_name, cheese=True, lettuce=True, tomato=True, onions=''):\n",
    "    total_price= 4.50\n",
    "    message = (f\"Thank you, {customer_name}! Here is your receipt:\\n\")\n",
    "    message += '1 Hamburger\\n'\n",
    "    if cheese:\n",
    "        message += '\\twith cheese\\n'\n",
    "    if lettuce:\n",
    "        message += '\\twith lettuce\\n'\n",
    "    if tomato:\n",
    "        message += '\\twith tomato\\n'\n",
    "    if onions:\n",
    "        message += f'\\twith {onions} onions\\n'\n",
    "        total_price += .50\n",
    "    message += f'\\t\\tTotal: ${total_price:.2f}'\n",
    "    print(message)\n",
    "\n",
    "make_a_burger('Claire')\n",
    "print(\"\\n\")\n",
    "make_a_burger('Max', True, False, False, 'grilled')\n",
    "    \n",
    "    "
   ]
  },
  {
   "cell_type": "markdown",
   "metadata": {},
   "source": [
    "##### \\*args and **kwargs"
   ]
  },
  {
   "cell_type": "code",
   "execution_count": 83,
   "metadata": {},
   "outputs": [
    {
     "name": "stdout",
     "output_type": "stream",
     "text": [
      "Help on built-in function max in module builtins:\n",
      "\n",
      "max(...)\n",
      "    max(iterable, *[, default=obj, key=func]) -> value\n",
      "    max(arg1, arg2, *args, *[, key=func]) -> value\n",
      "    \n",
      "    With a single iterable argument, return its biggest item. The\n",
      "    default keyword-only argument specifies an object to return if\n",
      "    the provided iterable is empty.\n",
      "    With two or more arguments, return the largest argument.\n",
      "\n"
     ]
    }
   ],
   "source": [
    "help(max)"
   ]
  },
  {
   "cell_type": "code",
   "execution_count": 84,
   "metadata": {
    "scrolled": true
   },
   "outputs": [
    {
     "data": {
      "text/plain": [
       "7"
      ]
     },
     "execution_count": 84,
     "metadata": {},
     "output_type": "execute_result"
    }
   ],
   "source": [
    "max(1, 2, 3, 4, 5, 2, 4, 3, 6, 7, 2, 3, 6, 7, 2, 6, 7, 3, 5, 6, 4)"
   ]
  },
  {
   "cell_type": "code",
   "execution_count": 92,
   "metadata": {},
   "outputs": [
    {
     "name": "stdout",
     "output_type": "stream",
     "text": [
      "a\n",
      "('b', 'c', 'd', 'e')\n",
      "<class 'tuple'>\n",
      "{'key': 'value', 'numb': 10}\n",
      "<class 'dict'>\n"
     ]
    }
   ],
   "source": [
    "def my_function(arg1, *args, **kwargs):\n",
    "    print(arg1)\n",
    "    print(args)\n",
    "    print(type(args))\n",
    "    print(kwargs)\n",
    "    print(type(kwargs))\n",
    "\n",
    "my_function('a', 'b', 'c', 'd', 'e', key='value', numb=10)"
   ]
  },
  {
   "cell_type": "markdown",
   "metadata": {},
   "source": [
    "#### In Class Exercise 1"
   ]
  },
  {
   "cell_type": "markdown",
   "metadata": {},
   "source": [
    "Create a function that takes in a color, make, and model and formats it into a string.<br>\n",
    "Then loop over the cars list and apply the function to each element.<br>\n",
    "Expected Output:<br>\n",
    "<code>Blue Toyota Tundra\n",
    "Green Chevy Silverado\n",
    "Pink Ford F-150</code>\n"
   ]
  },
  {
   "cell_type": "code",
   "execution_count": 143,
   "metadata": {
    "scrolled": false
   },
   "outputs": [],
   "source": [
    "cars = [('blue', 'toyota', 'tundra'), ('green', 'chevy', 'silverado'), ('pink', 'ford', 'f-150')]\n",
    "\n",
    "\n",
    "def format_car(color, make, model):\n",
    "    print(f\"{color.title()} {make.title()} {model.title()}\") "
   ]
  },
  {
   "cell_type": "code",
   "execution_count": 144,
   "metadata": {},
   "outputs": [
    {
     "name": "stdout",
     "output_type": "stream",
     "text": [
      "Blue Toyota Tundra\n",
      "Green Chevy Silverado\n",
      "Pink Ford F-150\n"
     ]
    }
   ],
   "source": [
    "for car in cars:\n",
    "    format_car(car[0], car[1], car[2])"
   ]
  },
  {
   "cell_type": "code",
   "execution_count": 136,
   "metadata": {},
   "outputs": [
    {
     "name": "stdout",
     "output_type": "stream",
     "text": [
      "Blue Toyota Tundra\n",
      "Green Chevy Silverado\n",
      "Pink Ford F-150\n"
     ]
    }
   ],
   "source": [
    "for c, ma, mo in cars:\n",
    "    format_car(c, ma, mo)"
   ]
  },
  {
   "cell_type": "code",
   "execution_count": 138,
   "metadata": {},
   "outputs": [
    {
     "name": "stdout",
     "output_type": "stream",
     "text": [
      "Blue Toyota Tundra\n",
      "Green Chevy Silverado\n",
      "Pink Ford F-150\n"
     ]
    }
   ],
   "source": [
    "for car in cars:\n",
    "    format_car(*car)"
   ]
  },
  {
   "cell_type": "code",
   "execution_count": null,
   "metadata": {},
   "outputs": [],
   "source": []
  },
  {
   "cell_type": "code",
   "execution_count": null,
   "metadata": {},
   "outputs": [],
   "source": []
  },
  {
   "cell_type": "markdown",
   "metadata": {},
   "source": [
    "## Scope <br>\n",
    "<p>Scope refers to the ability to access variables, different types of scope include:<br>a) Global<br>b) Function (local)<br>c) Class (local)</p>"
   ]
  },
  {
   "cell_type": "code",
   "execution_count": 147,
   "metadata": {},
   "outputs": [
    {
     "name": "stdout",
     "output_type": "stream",
     "text": [
      "[('blue', 'toyota', 'tundra'), ('green', 'chevy', 'silverado'), ('pink', 'ford', 'f-150')]\n"
     ]
    }
   ],
   "source": [
    "print(cars)"
   ]
  },
  {
   "cell_type": "code",
   "execution_count": 151,
   "metadata": {},
   "outputs": [
    {
     "name": "stdout",
     "output_type": "stream",
     "text": [
      "Jimmy Smith\n",
      "Little Jimmy has been assigned to Miss Buttercut's class\n"
     ]
    }
   ],
   "source": [
    "student = 'Little Jimmy'\n",
    "teacher = 'Miss Buttercut'\n",
    "\n",
    "def assign_student(student_name):\n",
    "    student = 'Jimmy Smith'\n",
    "    print(student) # Searches through 'function' for 'student'    \n",
    "    print(f\"{student_name} has been assigned to {teacher}'s class\") # Searches for teacher in 'function' first.\n",
    "                                                                    # Once none was found it searches outside of 'funtion'\n",
    "    \n",
    "assign_student(student)"
   ]
  },
  {
   "cell_type": "code",
   "execution_count": 163,
   "metadata": {},
   "outputs": [
    {
     "name": "stdout",
     "output_type": "stream",
     "text": [
      "Help on class list in module builtins:\n",
      "\n",
      "class list(object)\n",
      " |  list(iterable=(), /)\n",
      " |  \n",
      " |  Built-in mutable sequence.\n",
      " |  \n",
      " |  If no argument is given, the constructor creates a new empty list.\n",
      " |  The argument must be an iterable if specified.\n",
      " |  \n",
      " |  Methods defined here:\n",
      " |  \n",
      " |  __add__(self, value, /)\n",
      " |      Return self+value.\n",
      " |  \n",
      " |  __contains__(self, key, /)\n",
      " |      Return key in self.\n",
      " |  \n",
      " |  __delitem__(self, key, /)\n",
      " |      Delete self[key].\n",
      " |  \n",
      " |  __eq__(self, value, /)\n",
      " |      Return self==value.\n",
      " |  \n",
      " |  __ge__(self, value, /)\n",
      " |      Return self>=value.\n",
      " |  \n",
      " |  __getattribute__(self, name, /)\n",
      " |      Return getattr(self, name).\n",
      " |  \n",
      " |  __getitem__(...)\n",
      " |      x.__getitem__(y) <==> x[y]\n",
      " |  \n",
      " |  __gt__(self, value, /)\n",
      " |      Return self>value.\n",
      " |  \n",
      " |  __iadd__(self, value, /)\n",
      " |      Implement self+=value.\n",
      " |  \n",
      " |  __imul__(self, value, /)\n",
      " |      Implement self*=value.\n",
      " |  \n",
      " |  __init__(self, /, *args, **kwargs)\n",
      " |      Initialize self.  See help(type(self)) for accurate signature.\n",
      " |  \n",
      " |  __iter__(self, /)\n",
      " |      Implement iter(self).\n",
      " |  \n",
      " |  __le__(self, value, /)\n",
      " |      Return self<=value.\n",
      " |  \n",
      " |  __len__(self, /)\n",
      " |      Return len(self).\n",
      " |  \n",
      " |  __lt__(self, value, /)\n",
      " |      Return self<value.\n",
      " |  \n",
      " |  __mul__(self, value, /)\n",
      " |      Return self*value.\n",
      " |  \n",
      " |  __ne__(self, value, /)\n",
      " |      Return self!=value.\n",
      " |  \n",
      " |  __repr__(self, /)\n",
      " |      Return repr(self).\n",
      " |  \n",
      " |  __reversed__(self, /)\n",
      " |      Return a reverse iterator over the list.\n",
      " |  \n",
      " |  __rmul__(self, value, /)\n",
      " |      Return value*self.\n",
      " |  \n",
      " |  __setitem__(self, key, value, /)\n",
      " |      Set self[key] to value.\n",
      " |  \n",
      " |  __sizeof__(self, /)\n",
      " |      Return the size of the list in memory, in bytes.\n",
      " |  \n",
      " |  append(self, object, /)\n",
      " |      Append object to the end of the list.\n",
      " |  \n",
      " |  clear(self, /)\n",
      " |      Remove all items from list.\n",
      " |  \n",
      " |  copy(self, /)\n",
      " |      Return a shallow copy of the list.\n",
      " |  \n",
      " |  count(self, value, /)\n",
      " |      Return number of occurrences of value.\n",
      " |  \n",
      " |  extend(self, iterable, /)\n",
      " |      Extend list by appending elements from the iterable.\n",
      " |  \n",
      " |  index(self, value, start=0, stop=9223372036854775807, /)\n",
      " |      Return first index of value.\n",
      " |      \n",
      " |      Raises ValueError if the value is not present.\n",
      " |  \n",
      " |  insert(self, index, object, /)\n",
      " |      Insert object before index.\n",
      " |  \n",
      " |  pop(self, index=-1, /)\n",
      " |      Remove and return item at index (default last).\n",
      " |      \n",
      " |      Raises IndexError if list is empty or index is out of range.\n",
      " |  \n",
      " |  remove(self, value, /)\n",
      " |      Remove first occurrence of value.\n",
      " |      \n",
      " |      Raises ValueError if the value is not present.\n",
      " |  \n",
      " |  reverse(self, /)\n",
      " |      Reverse *IN PLACE*.\n",
      " |  \n",
      " |  sort(self, /, *, key=None, reverse=False)\n",
      " |      Sort the list in ascending order and return None.\n",
      " |      \n",
      " |      The sort is in-place (i.e. the list itself is modified) and stable (i.e. the\n",
      " |      order of two equal elements is maintained).\n",
      " |      \n",
      " |      If a key function is given, apply it once to each list item and sort them,\n",
      " |      ascending or descending, according to their function values.\n",
      " |      \n",
      " |      The reverse flag can be set to sort in descending order.\n",
      " |  \n",
      " |  ----------------------------------------------------------------------\n",
      " |  Class methods defined here:\n",
      " |  \n",
      " |  __class_getitem__(...) from builtins.type\n",
      " |      See PEP 585\n",
      " |  \n",
      " |  ----------------------------------------------------------------------\n",
      " |  Static methods defined here:\n",
      " |  \n",
      " |  __new__(*args, **kwargs) from builtins.type\n",
      " |      Create and return a new object.  See help(type) for accurate signature.\n",
      " |  \n",
      " |  ----------------------------------------------------------------------\n",
      " |  Data and other attributes defined here:\n",
      " |  \n",
      " |  __hash__ = None\n",
      "\n"
     ]
    }
   ],
   "source": [
    "help(list)"
   ]
  },
  {
   "cell_type": "markdown",
   "metadata": {},
   "source": [
    "##### Returning Values"
   ]
  },
  {
   "cell_type": "code",
   "execution_count": 164,
   "metadata": {},
   "outputs": [
    {
     "name": "stdout",
     "output_type": "stream",
     "text": [
      "10\n"
     ]
    }
   ],
   "source": [
    "# Mathematical Function - y = f(x)\n",
    "# Where f is the function, x is the input(s), and y is the dependent variable (or the return variable)\n",
    "\n",
    "def f(x):\n",
    "    return 2 * x\n",
    "\n",
    "y = f(5)\n",
    "print(y)\n"
   ]
  },
  {
   "cell_type": "code",
   "execution_count": 168,
   "metadata": {},
   "outputs": [
    {
     "name": "stdout",
     "output_type": "stream",
     "text": [
      "20 400\n"
     ]
    }
   ],
   "source": [
    "z = f(10)\n",
    "print(z, z**2)"
   ]
  },
  {
   "cell_type": "code",
   "execution_count": null,
   "metadata": {},
   "outputs": [],
   "source": []
  },
  {
   "cell_type": "code",
   "execution_count": 167,
   "metadata": {
    "scrolled": true
   },
   "outputs": [
    {
     "data": {
      "text/plain": [
       "0"
      ]
     },
     "execution_count": 167,
     "metadata": {},
     "output_type": "execute_result"
    }
   ],
   "source": [
    "# Return will also immediately terminate the function\n",
    "def early_return(n):\n",
    "    for i in range(n):\n",
    "        return i\n",
    "    \n",
    "early_return(1000)\n"
   ]
  },
  {
   "cell_type": "code",
   "execution_count": 172,
   "metadata": {},
   "outputs": [
    {
     "data": {
      "text/plain": [
       "1000"
      ]
     },
     "execution_count": 172,
     "metadata": {},
     "output_type": "execute_result"
    }
   ],
   "source": [
    "def early_return_again(n):\n",
    "    for i in range(n):\n",
    "        return n\n",
    "    print(\"Still in the funtion!\")\n",
    "    \n",
    "early_return_again(1000)"
   ]
  },
  {
   "cell_type": "markdown",
   "metadata": {},
   "source": [
    "#### Multiple returns in a function"
   ]
  },
  {
   "cell_type": "code",
   "execution_count": 170,
   "metadata": {},
   "outputs": [
    {
     "name": "stdout",
     "output_type": "stream",
     "text": [
      "False\n"
     ]
    }
   ],
   "source": [
    "def can_vote(birth_year):\n",
    "    if 2022 - birth_year >= 18:\n",
    "        return True\n",
    "    else:\n",
    "        return False\n",
    "\n",
    "print(can_vote(2010))"
   ]
  },
  {
   "cell_type": "code",
   "execution_count": 178,
   "metadata": {},
   "outputs": [
    {
     "name": "stdout",
     "output_type": "stream",
     "text": [
      "False\n",
      "True\n"
     ]
    }
   ],
   "source": [
    "def can_vote(birth_year):\n",
    "    if 2022 - birth_year >= 18:\n",
    "        return True\n",
    "    return False\n",
    "\n",
    "print(can_vote(2010))\n",
    "print(can_vote(2000))"
   ]
  },
  {
   "cell_type": "code",
   "execution_count": 176,
   "metadata": {},
   "outputs": [
    {
     "name": "stdout",
     "output_type": "stream",
     "text": [
      "True\n",
      "False\n",
      "None\n"
     ]
    }
   ],
   "source": [
    "def can_vote(birth_year):\n",
    "    if 2022 - birth_year >= 18:\n",
    "        print(True)\n",
    "    print(False)\n",
    "\n",
    "print(can_vote(2000))"
   ]
  },
  {
   "cell_type": "markdown",
   "metadata": {},
   "source": [
    "##### Difference between `return` and `print`"
   ]
  },
  {
   "cell_type": "code",
   "execution_count": 182,
   "metadata": {},
   "outputs": [
    {
     "name": "stdout",
     "output_type": "stream",
     "text": [
      "World Cup Soccer Is Fun!\n",
      "\n",
      "    None by Terry Ryan\n",
      "    I sure am enjoying the World Cup, what about you?\n",
      "    \n",
      "\n",
      "World Cup Soccer Is Fun! by Terry Ryan\n",
      "I sure am enjoying the World Cup, what about you?\n",
      "\n"
     ]
    }
   ],
   "source": [
    "def create_headline_print(message):\n",
    "    print(message.strip().title() + \"!\")\n",
    "    \n",
    "def create_headline_return(message):\n",
    "    return(message.strip().title() + \"!\")\n",
    "\n",
    "\n",
    "#----------------PRINT----------------\n",
    "\n",
    "def publish_article_print(headline, author, body):\n",
    "    clean_headline = create_headline_print(headline)\n",
    "    \n",
    "    print(f\"\"\"\n",
    "    {clean_headline} by {author}\n",
    "    {body}\n",
    "    \"\"\")\n",
    "\n",
    "publish_article_print(\"      worLD CUp SocCer is FUN\", \"Terry Ryan\", \"I sure am enjoying the World Cup, what about you?\")\n",
    "\n",
    "\n",
    "#-----------------RETURN--------------\n",
    "\n",
    "def publish_article_return(headline, author, body):\n",
    "    clean_headline = create_headline_return(headline)\n",
    "    \n",
    "    print(f\"\"\"\n",
    "{clean_headline} by {author}\n",
    "{body}\n",
    "\"\"\")\n",
    "\n",
    "publish_article_return(\"      worLD CUp SocCer is FUN\", \"Terry Ryan\", \"I sure am enjoying the World Cup, what about you?\")"
   ]
  },
  {
   "cell_type": "code",
   "execution_count": null,
   "metadata": {},
   "outputs": [],
   "source": []
  },
  {
   "cell_type": "code",
   "execution_count": null,
   "metadata": {},
   "outputs": [],
   "source": []
  },
  {
   "cell_type": "markdown",
   "metadata": {},
   "source": [
    "#### Functions with Lists"
   ]
  },
  {
   "cell_type": "code",
   "execution_count": null,
   "metadata": {},
   "outputs": [],
   "source": [
    "bands = ['  thE beATles   ', 'tHe RoLLing sTones..', '.,tHe eagles', 'the tEMptationS  ']\n",
    "bands2 = [' The whO  ', '  .   , tHE dOORS  ', ' the bAnd   ', '...,  THE kINks    ']"
   ]
  },
  {
   "cell_type": "code",
   "execution_count": 183,
   "metadata": {},
   "outputs": [
    {
     "data": {
      "text/plain": [
       "['The Beatles', 'The Rolling Stones..', '.,The Eagles', 'The Temptations']"
      ]
     },
     "execution_count": 183,
     "metadata": {},
     "output_type": "execute_result"
    }
   ],
   "source": [
    "clean_band = [band.strip(', ').title() for band in bands]\n",
    "clean_band"
   ]
  },
  {
   "cell_type": "code",
   "execution_count": 184,
   "metadata": {},
   "outputs": [
    {
     "data": {
      "text/plain": [
       "['The Who', 'The Doors', 'The Band', 'The Kinks']"
      ]
     },
     "execution_count": 184,
     "metadata": {},
     "output_type": "execute_result"
    }
   ],
   "source": [
    "def clean_band_names(messy_bands):\n",
    "    return [band.strip('., ').title() for band in messy_bands]\n",
    "\n",
    "clean_band_names(bands2)"
   ]
  },
  {
   "cell_type": "code",
   "execution_count": null,
   "metadata": {},
   "outputs": [],
   "source": []
  },
  {
   "cell_type": "markdown",
   "metadata": {},
   "source": [
    "#### In-Class Exercise 2"
   ]
  },
  {
   "cell_type": "markdown",
   "metadata": {},
   "source": [
    "Create a function that takes in the list of tuples ('city', 'country') and a country name and returns a list of the cities in that country"
   ]
  },
  {
   "cell_type": "code",
   "execution_count": 238,
   "metadata": {},
   "outputs": [
    {
     "data": {
      "text/plain": [
       "['Rome', 'Florence']"
      ]
     },
     "execution_count": 238,
     "metadata": {},
     "output_type": "execute_result"
    }
   ],
   "source": [
    "cities = [\n",
    "    (\"London\", \"England\"), \n",
    "    (\"Manchester\", \"England\"), \n",
    "    (\"Barcelona\", \"Spain\"), \n",
    "    (\"Madrid\", \"Spain\"), \n",
    "    (\"Rome\", \"Italy\"), \n",
    "    (\"Florence\", \"Italy\")\n",
    "]\n",
    "\n",
    "\n",
    "\n",
    "def cities_in_country(list_of_tuples, country_name):\n",
    "    citylist = []\n",
    "    for tup in list_of_tuples:\n",
    "        if tup[1] == country_name:\n",
    "            citylist.append(tup[0])\n",
    "    return(citylist)\n",
    "            \n",
    "cities_in_country(cities, 'Italy') # returns ['Rome', 'Florence']"
   ]
  },
  {
   "cell_type": "code",
   "execution_count": null,
   "metadata": {},
   "outputs": [],
   "source": [
    "\n",
    "        "
   ]
  },
  {
   "cell_type": "code",
   "execution_count": null,
   "metadata": {},
   "outputs": [],
   "source": []
  },
  {
   "cell_type": "code",
   "execution_count": null,
   "metadata": {},
   "outputs": [],
   "source": []
  },
  {
   "cell_type": "markdown",
   "metadata": {},
   "source": [
    "#### Docstrings"
   ]
  },
  {
   "cell_type": "code",
   "execution_count": 222,
   "metadata": {},
   "outputs": [
    {
     "name": "stdout",
     "output_type": "stream",
     "text": [
      "Help on built-in function len in module builtins:\n",
      "\n",
      "len(obj, /)\n",
      "    Return the number of items in a container.\n",
      "\n"
     ]
    }
   ],
   "source": [
    "help(len)"
   ]
  },
  {
   "cell_type": "code",
   "execution_count": 224,
   "metadata": {},
   "outputs": [
    {
     "name": "stdout",
     "output_type": "stream",
     "text": [
      "Help on function add_nums in module __main__:\n",
      "\n",
      "add_nums(num1, num2)\n",
      "    add_nums takes in two number types (int or float) and will return the two added together\n",
      "    num1 -> int or float\n",
      "    num2 -> int or float\n",
      "    returns int or float\n",
      "\n"
     ]
    }
   ],
   "source": [
    "def add_nums(num1, num2):\n",
    "    \"\"\"\n",
    "    add_nums takes in two number types (int or float) and will return the two added together\n",
    "    num1 -> int or float\n",
    "    num2 -> int or float\n",
    "    returns int or float\n",
    "    \"\"\"\n",
    "    return num1 + num2\n",
    "\n",
    "help(add_nums)"
   ]
  },
  {
   "cell_type": "code",
   "execution_count": null,
   "metadata": {},
   "outputs": [],
   "source": []
  },
  {
   "cell_type": "markdown",
   "metadata": {},
   "source": [
    "#### Whiteboard Approach"
   ]
  },
  {
   "cell_type": "markdown",
   "metadata": {},
   "source": [
    "1. What are the input(s)?\n",
    "2. What are the output(s)?\n",
    "3. Consider constraints and edge cases\n",
    "4. Write out steps logically (No python)\n",
    "5. Pseudocode\n",
    "6. Code"
   ]
  },
  {
   "cell_type": "markdown",
   "metadata": {},
   "source": [
    "#### Whiteboard Example"
   ]
  },
  {
   "cell_type": "markdown",
   "metadata": {},
   "source": [
    "Find Even numbers<br>\n",
    "Create a function that, given a list as a parameter, finds the even numbers <br>\n",
    "inside the list. The function should then return a list.<br>\n",
    "Bonus: Use a list comprehension to find your solution<br>\n",
    "Example:<br>\n",
    "Input: [2, 7, 10, 11, 12]<br>\n",
    "Output: [2, 10, 12]<br>"
   ]
  },
  {
   "cell_type": "code",
   "execution_count": null,
   "metadata": {},
   "outputs": [],
   "source": [
    "#1. The input is a list of integers\n",
    "#2. The output is a list of integers\n",
    "#3. Constraints or assumptions\n",
    "#4.\n",
    "    #a. Create a list of numbers\n",
    "    #b. Define even_num function\n",
    "        #1. For every number in nums list..\n",
    "        #2. ..check to see if the number is divisible by 2, if so\n",
    "        #3. ..return that number\n",
    "#5. Define a function that accepts one parameter\n",
    "    # define an empty list\n",
    "    # looop through the original list\n",
    "        # if element is even, add to even number list\n",
    "        # if the element is odd, do nothing\n",
    "    # Once finished looping, return the list of even numbers"
   ]
  },
  {
   "cell_type": "code",
   "execution_count": 248,
   "metadata": {},
   "outputs": [
    {
     "name": "stdout",
     "output_type": "stream",
     "text": [
      "[2, 10, 12]\n"
     ]
    }
   ],
   "source": [
    "# Input integers into list\n",
    "nums =[2, 7, 10, 11, 12]\n",
    "\n",
    "# Define a function to search through numbers in nums list and add them to even_num if they are divisible by 2\n",
    "def even_num():\n",
    "    even_num = [num for num in nums if num % 2 == 0]\n",
    "    print(even_num)\n",
    "       \n",
    "even_num()"
   ]
  },
  {
   "cell_type": "code",
   "execution_count": null,
   "metadata": {},
   "outputs": [],
   "source": []
  }
 ],
 "metadata": {
  "kernelspec": {
   "display_name": "Python 3 (ipykernel)",
   "language": "python",
   "name": "python3"
  },
  "language_info": {
   "codemirror_mode": {
    "name": "ipython",
    "version": 3
   },
   "file_extension": ".py",
   "mimetype": "text/x-python",
   "name": "python",
   "nbconvert_exporter": "python",
   "pygments_lexer": "ipython3",
   "version": "3.9.12"
  }
 },
 "nbformat": 4,
 "nbformat_minor": 2
}
